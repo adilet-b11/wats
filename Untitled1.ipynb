{
 "cells": [
  {
   "cell_type": "code",
   "execution_count": 7,
   "metadata": {},
   "outputs": [
    {
     "name": "stdout",
     "output_type": "stream",
     "text": [
      " Volume in drive C has no label.\n",
      " Volume Serial Number is 32B7-BC48\n",
      "\n",
      " Directory of C:\\Users\\User1\\Desktop\\Watson IBM\n",
      "\n",
      "05.04.2020  22:59    <DIR>          .\n",
      "05.04.2020  22:59    <DIR>          ..\n",
      "05.04.2020  22:58    <DIR>          .ipynb_checkpoints\n",
      "05.04.2020  00:39           126 668 1.jpeg\n",
      "05.04.2020  18:59         2 059 808 1.jpg\n",
      "05.04.2020  13:47           151 069 2.jpg\n",
      "05.04.2020  21:15         3 374 738 beds.zip\n",
      "05.04.2020  21:16         9 491 771 chairs.zip\n",
      "05.04.2020  17:08           298 339 Classifying_Images_Using_Watson_API_v3.html\n",
      "05.04.2020  22:39    <DIR>          CV0101EN-capstone-project\n",
      "05.04.2020  22:39            17 565 CV0101EN-capstone-project-new.zip\n",
      "05.04.2020  16:47               975 Face Detection.ipynb\n",
      "05.04.2020  22:58             8 718 IBM WATSON Project.ipynb\n",
      "05.04.2020  14:09           115 619 image.jpg\n",
      "05.04.2020  17:26           307 046 Image_Compression_using_OpenCV.html\n",
      "05.04.2020  17:07           312 419 Image_Processing_with_OpenCV (1).html\n",
      "05.04.2020  17:38           303 478 Image_Processing_with_OpenCV.html\n",
      "05.04.2020  14:11         2 068 176 Pre-trained classifier of IBM Watson.ipynb\n",
      "05.04.2020  21:16         4 406 914 tables.zip\n",
      "05.04.2020  22:59    <DIR>          temp\n",
      "05.04.2020  17:08           309 402 Training_Custom_Classifiers_with_Watson_v2.html\n",
      "05.04.2020  22:57                72 Untitled.ipynb\n",
      "05.04.2020  22:58                72 Untitled1.ipynb\n",
      "              18 File(s)     23 352 849 bytes\n",
      "               5 Dir(s)  392 290 897 920 bytes free\n"
     ]
    },
    {
     "name": "stderr",
     "output_type": "stream",
     "text": [
      "The system cannot find the path specified.\n",
      "A subdirectory or file temp already exists.\n"
     ]
    },
    {
     "name": "stdout",
     "output_type": "stream",
     "text": [
      " Volume in drive C has no label.\n",
      " Volume Serial Number is 32B7-BC48\n",
      "\n",
      " Directory of C:\\Users\\User1\\Desktop\\Watson IBM\n",
      "\n",
      "05.04.2020  22:59    <DIR>          .\n",
      "05.04.2020  22:59    <DIR>          ..\n",
      "05.04.2020  22:58    <DIR>          .ipynb_checkpoints\n",
      "05.04.2020  00:39           126 668 1.jpeg\n",
      "05.04.2020  18:59         2 059 808 1.jpg\n",
      "05.04.2020  13:47           151 069 2.jpg\n",
      "05.04.2020  21:15         3 374 738 beds.zip\n",
      "05.04.2020  21:16         9 491 771 chairs.zip\n",
      "05.04.2020  17:08           298 339 Classifying_Images_Using_Watson_API_v3.html\n",
      "05.04.2020  22:39    <DIR>          CV0101EN-capstone-project\n",
      "05.04.2020  22:39            17 565 CV0101EN-capstone-project-new.zip\n",
      "05.04.2020  16:47               975 Face Detection.ipynb\n",
      "05.04.2020  22:58             8 718 IBM WATSON Project.ipynb\n",
      "05.04.2020  14:09           115 619 image.jpg\n",
      "05.04.2020  17:26           307 046 Image_Compression_using_OpenCV.html\n",
      "05.04.2020  17:07           312 419 Image_Processing_with_OpenCV (1).html\n",
      "05.04.2020  17:38           303 478 Image_Processing_with_OpenCV.html\n",
      "05.04.2020  14:11         2 068 176 Pre-trained classifier of IBM Watson.ipynb\n",
      "05.04.2020  21:16         4 406 914 tables.zip\n",
      "05.04.2020  22:59    <DIR>          temp\n",
      "05.04.2020  17:08           309 402 Training_Custom_Classifiers_with_Watson_v2.html\n",
      "05.04.2020  22:57                72 Untitled.ipynb\n",
      "05.04.2020  22:58                72 Untitled1.ipynb\n",
      "              18 File(s)     23 352 849 bytes\n",
      "               5 Dir(s)  392 290 897 920 bytes free\n"
     ]
    }
   ],
   "source": [
    "!dir\n",
    "!cd Desktop\n",
    "!mkdir temp\n",
    "!dir"
   ]
  },
  {
   "cell_type": "code",
   "execution_count": null,
   "metadata": {},
   "outputs": [],
   "source": []
  }
 ],
 "metadata": {
  "kernelspec": {
   "display_name": "Python 3",
   "language": "python",
   "name": "python3"
  },
  "language_info": {
   "codemirror_mode": {
    "name": "ipython",
    "version": 3
   },
   "file_extension": ".py",
   "mimetype": "text/x-python",
   "name": "python",
   "nbconvert_exporter": "python",
   "pygments_lexer": "ipython3",
   "version": "3.7.4"
  }
 },
 "nbformat": 4,
 "nbformat_minor": 2
}
