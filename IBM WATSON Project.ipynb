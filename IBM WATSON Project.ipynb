{
 "cells": [
  {
   "cell_type": "code",
   "execution_count": 1,
   "metadata": {},
   "outputs": [],
   "source": [
    "# Paste your API key for IBM Watson Visual Recognition below:\n",
    "my_apikey = 'Y6ftVJqnQh3iOJslwZ9_gZCsOYT7rZq52bWZ_PLxWD-3'\n",
    "import time"
   ]
  },
  {
   "cell_type": "code",
   "execution_count": 2,
   "metadata": {},
   "outputs": [],
   "source": [
    "from ibm_watson import VisualRecognitionV3\n",
    "from ibm_cloud_sdk_core.authenticators import IAMAuthenticator\n",
    "authenticator = IAMAuthenticator(my_apikey)\n",
    "\n",
    "visrec = VisualRecognitionV3('2020-04-05', \n",
    "                             authenticator=authenticator)"
   ]
  },
  {
   "cell_type": "markdown",
   "metadata": {},
   "source": [
    "import json\n",
    "with open('tables.zip', 'rb') as table, \\\n",
    "     open('beds.zip', 'rb') as bed, \\\n",
    "     open('chairs.zip', 'rb') as chair:\n",
    "        response = visrec.create_classifier(name=\"Furniture Classifier\",\n",
    "                                        positive_examples={'table': table, \\\n",
    "                                                           'bed': bed, \\\n",
    "                                                           'chair': chair})\n",
    "print(json.dumps(response.get_result(), indent=2))"
   ]
  },
  {
   "cell_type": "code",
   "execution_count": 3,
   "metadata": {},
   "outputs": [
    {
     "data": {
      "text/plain": [
       "'FurnitureClassifier_2069579328'"
      ]
     },
     "execution_count": 3,
     "metadata": {},
     "output_type": "execute_result"
    }
   ],
   "source": [
    "#lets grab the classifier id\n",
    "classifier_id = 'FurnitureClassifier_2069579328'\n",
    "classifier_id"
   ]
  },
  {
   "cell_type": "code",
   "execution_count": 4,
   "metadata": {},
   "outputs": [
    {
     "name": "stdout",
     "output_type": "stream",
     "text": [
      "Good to go \n"
     ]
    }
   ],
   "source": [
    "Status = visrec.get_classifier(classifier_id=classifier_id, verbose=True).get_result()['status']\n",
    "if Status=='training': \n",
    "    print (\"Please, Wait to complete training.......\")\n",
    "else:\n",
    "    print(\"Good to go \")"
   ]
  },
  {
   "cell_type": "code",
   "execution_count": 5,
   "metadata": {},
   "outputs": [
    {
     "name": "stdout",
     "output_type": "stream",
     "text": [
      "Sun Apr  5 23:38:37 2020\n"
     ]
    }
   ],
   "source": [
    "while(True):\n",
    "    Status = visrec.get_classifier(classifier_id=classifier_id, verbose=True).get_result()['status']\n",
    "    if Status!='training': \n",
    "        print(time.ctime())\n",
    "        break"
   ]
  },
  {
   "cell_type": "code",
   "execution_count": 6,
   "metadata": {},
   "outputs": [
    {
     "data": {
      "text/plain": [
       "{'classifiers': [{'classifier_id': 'FurnitureClassifier_2069579328',\n",
       "   'name': 'Furniture Classifier',\n",
       "   'status': 'ready',\n",
       "   'owner': 'fb047f5c-9640-4769-b778-75025da3e914',\n",
       "   'created': '2020-04-05T15:17:42.697Z',\n",
       "   'updated': '2020-04-05T15:17:42.697Z',\n",
       "   'classes': [{'class': 'chair'}, {'class': 'bed'}, {'class': 'table'}],\n",
       "   'core_ml_enabled': True}]}"
      ]
     },
     "execution_count": 6,
     "metadata": {},
     "output_type": "execute_result"
    }
   ],
   "source": [
    "visrec.list_classifiers(verbose=True).get_result()"
   ]
  },
  {
   "cell_type": "code",
   "execution_count": 7,
   "metadata": {},
   "outputs": [],
   "source": [
    "from pandas.io.json import json_normalize\n",
    "\n",
    "def getdf_visrec(url, classifier_ids, apikey = my_apikey):\n",
    "    \n",
    "    json_result = visrec.classify(url=url,\n",
    "                              threshold='0',\n",
    "                              classifier_ids=classifier_id).get_result()\n",
    "    \n",
    "    json_classes = json_result['images'][0]['classifiers'][0]['classes']\n",
    "    \n",
    "    df = json_normalize(json_classes).sort_values('score', ascending=False).reset_index(drop=True)\n",
    "    \n",
    "    return df"
   ]
  },
  {
   "cell_type": "code",
   "execution_count": 8,
   "metadata": {},
   "outputs": [
    {
     "data": {
      "text/html": [
       "<div>\n",
       "<style scoped>\n",
       "    .dataframe tbody tr th:only-of-type {\n",
       "        vertical-align: middle;\n",
       "    }\n",
       "\n",
       "    .dataframe tbody tr th {\n",
       "        vertical-align: top;\n",
       "    }\n",
       "\n",
       "    .dataframe thead th {\n",
       "        text-align: right;\n",
       "    }\n",
       "</style>\n",
       "<table border=\"1\" class=\"dataframe\">\n",
       "  <thead>\n",
       "    <tr style=\"text-align: right;\">\n",
       "      <th></th>\n",
       "      <th>class</th>\n",
       "      <th>score</th>\n",
       "    </tr>\n",
       "  </thead>\n",
       "  <tbody>\n",
       "    <tr>\n",
       "      <td>0</td>\n",
       "      <td>bed</td>\n",
       "      <td>0.908</td>\n",
       "    </tr>\n",
       "    <tr>\n",
       "      <td>1</td>\n",
       "      <td>chair</td>\n",
       "      <td>0.002</td>\n",
       "    </tr>\n",
       "    <tr>\n",
       "      <td>2</td>\n",
       "      <td>table</td>\n",
       "      <td>0.000</td>\n",
       "    </tr>\n",
       "  </tbody>\n",
       "</table>\n",
       "</div>"
      ],
      "text/plain": [
       "   class  score\n",
       "0    bed  0.908\n",
       "1  chair  0.002\n",
       "2  table  0.000"
      ]
     },
     "execution_count": 8,
     "metadata": {},
     "output_type": "execute_result"
    }
   ],
   "source": [
    "getdf_visrec(url = 'https://cb2.scene7.com/is/image/CB2/DondraBedQueenSHS16_1x1/?$web_zoom$&190905020920&wid=450&hei=450',\n",
    "            classifier_ids=classifier_id)"
   ]
  },
  {
   "cell_type": "code",
   "execution_count": 9,
   "metadata": {},
   "outputs": [],
   "source": [
    "import wget, zipfile, os\n",
    "\n",
    "filename = wget.download('https://s3.us.cloud-object-storage.appdomain.cloud/cf-courses-data/CognitiveClass/CV0101/Project/CV0101EN-capstone-project-new.zip')\n",
    "with zipfile.ZipFile(filename,\"r\") as zip_ref:\n",
    "    zip_ref.extractall()"
   ]
  },
  {
   "cell_type": "code",
   "execution_count": 10,
   "metadata": {},
   "outputs": [
    {
     "name": "stdout",
     "output_type": "stream",
     "text": [
      "API endpoint: https://cloud.ibm.com\n",
      "Authenticating...\n",
      "OK\n",
      "\n",
      "Targeted account Nazarbayev University (61dd7fc6c31e4504a21f35b66d38a49f)\n",
      "\n",
      "                      \n",
      "API endpoint:      https://cloud.ibm.com   \n",
      "Region:               \n",
      "User:              adilet.baktykerey@nu.edu.kz   \n",
      "Account:           Nazarbayev University (61dd7fc6c31e4504a21f35b66d38a49f)   \n",
      "Resource group:    No resource group targeted, use 'ibmcloud target -g RESOURCE_GROUP'   \n",
      "CF API endpoint:      \n",
      "Org:                  \n",
      "Space:                \n"
     ]
    }
   ],
   "source": [
    "!ibmcloud config --check-version=false\n",
    "!ibmcloud login --no-region -u adilet.baktykerey@nu.edu.kz -p Shadow1997_"
   ]
  },
  {
   "cell_type": "code",
   "execution_count": 11,
   "metadata": {},
   "outputs": [
    {
     "name": "stdout",
     "output_type": "stream",
     "text": [
      "Getting orgs in all regions as adilet.baktykerey@nu.edu.kz...\n",
      "Retrieving current account...\n",
      "OK\n",
      "\n",
      "Name                          Region   Account owner                 Account ID                         Status   \n",
      "adilet.baktykerey@nu.edu.kz   eu-gb    adilet.baktykerey@nu.edu.kz   61dd7fc6c31e4504a21f35b66d38a49f   active   \n",
      "\n"
     ]
    }
   ],
   "source": [
    "!ibmcloud account orgs"
   ]
  },
  {
   "cell_type": "code",
   "execution_count": null,
   "metadata": {},
   "outputs": [],
   "source": [
    "!ibmcloud cf install"
   ]
  },
  {
   "cell_type": "code",
   "execution_count": 12,
   "metadata": {},
   "outputs": [
    {
     "name": "stdout",
     "output_type": "stream",
     "text": [
      "Switched to region eu-gb\n",
      "\n",
      "Targeted Cloud Foundry (https://api.eu-gb.cf.cloud.ibm.com)\n",
      "\n",
      "Targeted org adilet.baktykerey@nu.edu.kz\n",
      "\n",
      "\n",
      "                      \n",
      "API endpoint:      https://cloud.ibm.com   \n",
      "Region:            eu-gb   \n",
      "User:              adilet.baktykerey@nu.edu.kz   \n",
      "Account:           Nazarbayev University (61dd7fc6c31e4504a21f35b66d38a49f)   \n",
      "Resource group:    No resource group targeted, use 'ibmcloud target -g RESOURCE_GROUP'   \n",
      "CF API endpoint:   https://api.eu-gb.cf.cloud.ibm.com (API version: 2.146.0)   \n",
      "Org:               adilet.baktykerey@nu.edu.kz   \n",
      "Space:                \n",
      "Creating space Classifier-of-Adilet-computer-vision-app in org adilet.baktykerey@nu.edu.kz as adilet.baktykerey@nu.edu.kz...\n",
      "OK\n",
      "Assigning role SpaceManager to user adilet.baktykerey@nu.edu.kz in org adilet.baktykerey@nu.edu.kz / space Classifier-of-Adilet-computer-vision-app as adilet.baktykerey@nu.edu.kz...\n",
      "OK\n",
      "Assigning role SpaceDeveloper to user adilet.baktykerey@nu.edu.kz in org adilet.baktykerey@nu.edu.kz / space Classifier-of-Adilet-computer-vision-app as adilet.baktykerey@nu.edu.kz...\n",
      "OK\n",
      "Invoking 'cf help'...\n",
      "\n",
      "cf.exe version 6.50.0+4f0c3a2ce.2020-03-03, Cloud Foundry command line tool\n",
      "Usage: cf.exe [global options] command [arguments...] [command options]\n",
      "\n",
      "Before getting started:\n",
      "  config    login,l      target,t\n",
      "  help,h    logout,lo    \n",
      "\n",
      "Application lifecycle:\n",
      "  apps,a        run-task,rt    events\n",
      "  push,p        logs           set-env,se\n",
      "  start,st      ssh            create-app-manifest\n",
      "  stop,sp       app            delete,d\n",
      "  restart,rs    env,e          \n",
      "  restage,rg    scale          \n",
      "\n",
      "Services integration:\n",
      "  marketplace,m        create-user-provided-service,cups\n",
      "  services,s           update-user-provided-service,uups\n",
      "  create-service,cs    create-service-key,csk\n",
      "  update-service       delete-service-key,dsk\n",
      "  delete-service,ds    service-keys,sk\n",
      "  service              service-key\n",
      "  bind-service,bs      bind-route-service,brs\n",
      "  unbind-service,us    unbind-route-service,urs\n",
      "\n",
      "Route and domain management:\n",
      "  routes,r        delete-route    create-domain\n",
      "  domains         map-route       \n",
      "  create-route    unmap-route     \n",
      "\n",
      "Space management:\n",
      "  spaces         create-space    set-space-role\n",
      "  space-users    delete-space    unset-space-role\n",
      "\n",
      "Org management:\n",
      "  orgs,o       set-org-role\n",
      "  org-users    unset-org-role\n",
      "\n",
      "CLI plugin management:\n",
      "  plugins           add-plugin-repo      repo-plugins\n",
      "  install-plugin    list-plugin-repos    \n",
      "\n",
      "Commands offered by installed plugins:\n",
      "\n",
      "Global options:\n",
      "  --help, -h                         Show help\n",
      "  -v                                 Print API request diagnostics to stdout\n",
      "\n",
      "TIP: Use 'cf help -a' to see all commands.\n",
      "Use 'ibmcloud cf install' to install and use a different version of Cloud Foundry CLI.\n"
     ]
    }
   ],
   "source": [
    "!ibmcloud target --cf-api https://api.eu-gb.cf.cloud.ibm.com -r eu-gb -o adilet.baktykerey@nu.edu.kz\n",
    "!ibmcloud account space-create Classifier-of-Adilet-computer-vision-app\n",
    "!ibmcloud cf "
   ]
  },
  {
   "cell_type": "code",
   "execution_count": 13,
   "metadata": {},
   "outputs": [
    {
     "name": "stdout",
     "output_type": "stream",
     "text": [
      "Targeted space Classifier-of-Adilet-computer-vision-app\n",
      "\n",
      "\n",
      "                      \n",
      "API endpoint:      https://cloud.ibm.com   \n",
      "Region:            eu-gb   \n",
      "User:              adilet.baktykerey@nu.edu.kz   \n",
      "Account:           Nazarbayev University (61dd7fc6c31e4504a21f35b66d38a49f)   \n",
      "Resource group:    No resource group targeted, use 'ibmcloud target -g RESOURCE_GROUP'   \n",
      "CF API endpoint:   https://api.eu-gb.cf.cloud.ibm.com (API version: 2.146.0)   \n",
      "Org:               adilet.baktykerey@nu.edu.kz   \n",
      "Space:             Classifier-of-Adilet-computer-vision-app   \n"
     ]
    }
   ],
   "source": [
    "!ibmcloud target -s Classifier-of-Adilet-computer-vision-app"
   ]
  },
  {
   "cell_type": "code",
   "execution_count": 16,
   "metadata": {},
   "outputs": [
    {
     "name": "stdout",
     "output_type": "stream",
     "text": [
      "Invoking 'cf push Classifier-of-Adilet-computer-vision-app'...\n",
      "\n",
      "Pushing app Classifier-of-Adilet-computer-vision-app to org adilet.baktykerey@nu.edu.kz / space Classifier-of-Adilet-computer-vision-app as adilet.baktykerey@nu.edu.kz...\n",
      "Getting app info...\n",
      "Updating app with these attributes...\n",
      "  name:                Classifier-of-Adilet-computer-vision-app\n",
      "  path:                C:\\Users\\User1\\Desktop\\Watson IBM\n",
      "  disk quota:          1G\n",
      "  health check type:   port\n",
      "  instances:           1\n",
      "  memory:              1G\n",
      "  stack:               cflinuxfs3\n",
      "  routes:\n",
      "    classifier-of-adilet-computer-vision-app.eu-gb.mybluemix.net\n",
      "\n",
      "Updating app Classifier-of-Adilet-computer-vision-app...\n",
      "Mapping routes...\n",
      "Comparing local files to remote cache...\n",
      "Packaging files to upload...\n",
      "Uploading files...\n",
      "\n",
      " 0 B / 36.71 KiB    0.00%\n",
      " 36.71 KiB / 36.71 KiB  100.00%\n",
      " 36.71 KiB / 36.71 KiB  100.00%\n",
      " 36.71 KiB / 36.71 KiB  100.00%\n",
      " 36.71 KiB / 36.71 KiB  100.00%\n",
      " 36.71 KiB / 36.71 KiB  100.00%\n",
      " 36.71 KiB / 36.71 KiB  100.00%\n",
      " 36.71 KiB / 36.71 KiB  100.00% 1s\n",
      "\n",
      "Waiting for API to complete processing files...\n",
      "\n",
      "Staging app and tracing logs...\n",
      "FAILED\n"
     ]
    },
    {
     "name": "stderr",
     "output_type": "stream",
     "text": [
      "You have exceeded your organization's memory limit: app requested more memory than available\n"
     ]
    }
   ],
   "source": [
    "!cd C:\\Users\\User1\\Desktop\\Watson IBM\\CV0101EN-capstone-project\\appl\n",
    "!ibmcloud app push Classifier-of-Adilet-computer-vision-app"
   ]
  },
  {
   "cell_type": "code",
   "execution_count": null,
   "metadata": {},
   "outputs": [],
   "source": []
  }
 ],
 "metadata": {
  "kernelspec": {
   "display_name": "Python 3",
   "language": "python",
   "name": "python3"
  },
  "language_info": {
   "codemirror_mode": {
    "name": "ipython",
    "version": 3
   },
   "file_extension": ".py",
   "mimetype": "text/x-python",
   "name": "python",
   "nbconvert_exporter": "python",
   "pygments_lexer": "ipython3",
   "version": "3.7.4"
  }
 },
 "nbformat": 4,
 "nbformat_minor": 2
}
